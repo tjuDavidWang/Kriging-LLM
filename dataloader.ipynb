{
 "cells": [
  {
   "cell_type": "code",
   "execution_count": 3,
   "metadata": {},
   "outputs": [
    {
     "name": "stdout",
     "output_type": "stream",
     "text": [
      "(207, 207)\n",
      "[[    0.      inf     inf ...     inf  8114.8 10009.7]\n",
      " [    inf     0.   2504.6 ...     inf     inf     inf]\n",
      " [    inf  1489.3     0.  ...     inf     inf  9837. ]\n",
      " ...\n",
      " [    inf     inf     inf ...     0.      inf     inf]\n",
      " [ 9599.8     inf     inf ...     inf     0.      inf]\n",
      " [10119.9  9374.8     inf ...     inf  9018.7     0. ]]\n"
     ]
    }
   ],
   "source": [
    "import numpy as np\n",
    "dist = np.load(\"/home/zgjgroup/wwd/Time-LLM/dataset/metr_la/metr_la_dist.npy\")\n",
    "print(dist.shape)\n",
    "print(dist)"
   ]
  },
  {
   "cell_type": "code",
   "execution_count": 4,
   "metadata": {},
   "outputs": [
    {
     "data": {
      "text/plain": [
       "{'la': '/home/zgjgroup/wwd/Time-LLM/dataset/metr_la'}"
      ]
     },
     "execution_count": 4,
     "metadata": {},
     "output_type": "execute_result"
    }
   ],
   "source": [
    "import os\n",
    "import pandas as pd\n",
    "datasets_path={'la':\"/home/zgjgroup/wwd/Time-LLM/dataset/metr_la\"}\n",
    "datasets_path"
   ]
  },
  {
   "cell_type": "code",
   "execution_count": null,
   "metadata": {},
   "outputs": [],
   "source": [
    "class MetrLA(PandasDataset):\n",
    "    \"\"\"\n",
    "    METR-LA dataset\n",
    "    207\n",
    "    with 0, no nan\n",
    "    \"\"\"\n",
    "    def __init__(self, impute_zeros=False, freq='5T'):\n",
    "\n",
    "        df, dist, mask = self.load(impute_zeros=impute_zeros)\n",
    "        self.dist = dist\n",
    "        # PandasDataset中可以采用不同的方式对TS进行重采样\n",
    "        super().__init__(dataframe=df, u=None, mask=mask, name='la', freq=freq, aggr='nearest')\n",
    "\n",
    "    def load(self, impute_zeros=True):\n",
    "        path = os.path.join(datasets_path['la'], 'metr_la.h5')\n",
    "        # df.shape = (34272,207)\n",
    "        df = pd.read_hdf(path)\n",
    "        datetime_idx = sorted(df.index)\n",
    "        # 5T表示以5min作为采样率\n",
    "        date_range = pd.date_range(datetime_idx[0], datetime_idx[-1], freq='5T')\n",
    "        df = df.reindex(index=date_range)\n",
    "        # 将为值为非空的mask\n",
    "        mask = ~np.isnan(df.values)\n",
    "        if impute_zeros:\n",
    "            mask = mask * (df.values != 0.).astype('uint8')\n",
    "            # 使用前向填充（forward fill）方法将0值替换为前一个非0值\n",
    "            df = df.replace(to_replace=0., method='ffill')\n",
    "        else:\n",
    "            mask = None\n",
    "        dist = self.load_distance_matrix()\n",
    "        return df, dist, mask\n",
    "\n",
    "    def load_distance_matrix(self):\n",
    "        # dist.shape=(207,207)\n",
    "        path = os.path.join(datasets_path['la'], 'metr_la_dist.npy')\n",
    "        try:\n",
    "            dist = np.load(path)\n",
    "        except:\n",
    "            distances = pd.read_csv(os.path.join(datasets_path['la'], 'distances_la.csv'))\n",
    "            with open(os.path.join(datasets_path['la'], 'sensor_ids_la.txt')) as f:\n",
    "                ids = f.read().strip().split(',')\n",
    "            num_sensors = len(ids)\n",
    "            dist = np.ones((num_sensors, num_sensors), dtype=np.float32) * np.inf\n",
    "            # Builds sensor id to index map.\n",
    "            sensor_id_to_ind = {int(sensor_id): i for i, sensor_id in enumerate(ids)}\n",
    "\n",
    "            # Fills cells in the matrix with distances.\n",
    "            for row in distances.values:\n",
    "                if row[0] not in sensor_id_to_ind or row[1] not in sensor_id_to_ind:\n",
    "                    continue\n",
    "                dist[sensor_id_to_ind[row[0]], sensor_id_to_ind[row[1]]] = row[2]\n",
    "            np.save(path, dist)\n",
    "        return dist\n",
    "\n",
    "    def get_similarity(self, thr=0.1, force_symmetric=False, sparse=False):\n",
    "        finite_dist = self.dist.reshape(-1)\n",
    "        finite_dist = finite_dist[~np.isinf(finite_dist)] # 移除无穷大值\n",
    "        sigma = finite_dist.std() \n",
    "        # 使用高斯核函数计算相似性矩阵\n",
    "        adj = np.exp(-np.square(self.dist / sigma)) \n",
    "        adj[adj < thr] = 0.\n",
    "        if force_symmetric:\n",
    "            adj = np.maximum.reduce([adj, adj.T])\n",
    "        if sparse:\n",
    "            import scipy.sparse as sps\n",
    "            # 稀疏矩阵在存储和处理大型图结构数据时更为高效\n",
    "            adj = sps.coo_matrix(adj)\n",
    "        return adj\n",
    "\n",
    "    @property\n",
    "    def mask(self):\n",
    "        return self._mask"
   ]
  }
 ],
 "metadata": {
  "kernelspec": {
   "display_name": "time-llm",
   "language": "python",
   "name": "python3"
  },
  "language_info": {
   "codemirror_mode": {
    "name": "ipython",
    "version": 3
   },
   "file_extension": ".py",
   "mimetype": "text/x-python",
   "name": "python",
   "nbconvert_exporter": "python",
   "pygments_lexer": "ipython3",
   "version": "3.9.19"
  }
 },
 "nbformat": 4,
 "nbformat_minor": 2
}
